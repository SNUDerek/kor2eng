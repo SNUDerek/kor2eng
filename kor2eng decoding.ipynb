{
 "cells": [
  {
   "cell_type": "code",
   "execution_count": 1,
   "metadata": {
    "collapsed": false
   },
   "outputs": [
    {
     "name": "stderr",
     "output_type": "stream",
     "text": [
      "Using TensorFlow backend.\n"
     ]
    }
   ],
   "source": [
    "%matplotlib inline\n",
    "import matplotlib.pyplot as plt\n",
    "import pandas as pd\n",
    "import numpy as np\n",
    "import json, h5py\n",
    "import numpy as np\n",
    "from keras.models import Sequential\n",
    "from keras.preprocessing import sequence\n",
    "from keras.layers.wrappers import Bidirectional\n",
    "from keras.layers import Activation, Dense, Dropout, Embedding, GRU, LSTM, RepeatVector, TimeDistributed\n",
    "from keras.callbacks import EarlyStopping, ModelCheckpoint\n",
    "from dataset import dataGenerator\n",
    "from attention import Attention"
   ]
  },
  {
   "cell_type": "code",
   "execution_count": 2,
   "metadata": {
    "collapsed": false
   },
   "outputs": [
    {
     "name": "stdout",
     "output_type": "stream",
     "text": [
      "loading data...\n",
      "\n",
      "...data loaded!\n"
     ]
    }
   ],
   "source": [
    "# load data\n",
    "print(\"loading data...\\n\")\n",
    "\n",
    "x_words = [str(w) for w in list(np.load('encoded/x_words.npy'))]\n",
    "y_words = [str(w) for w in list(np.load('encoded/y_words.npy'))]\n",
    "x_vocab = [str(w) for w in list(np.load('encoded/x_vocab.npy'))]\n",
    "y_vocab = [str(w) for w in list(np.load('encoded/y_vocab.npy'))]\n",
    "\n",
    "kor2idx = np.load('encoded/kor2idx.npy').item()\n",
    "idx2kor = np.load('encoded/idx2kor.npy').item()\n",
    "eng2idx = np.load('encoded/eng2idx.npy').item()\n",
    "idx2eng = np.load('encoded/idx2eng.npy').item()\n",
    "\n",
    "train_idx = np.load('encoded/train_idx.npy')\n",
    "test_idx = np.load('encoded/test_idx.npy')\n",
    "\n",
    "x_train = np.load('encoded/x_train.npy')\n",
    "x_test = np.load('encoded/x_test.npy')\n",
    "y_train = np.load('encoded/y_train.npy')\n",
    "y_test = np.load('encoded/y_test.npy')\n",
    "\n",
    "print(\"...data loaded!\")"
   ]
  },
  {
   "cell_type": "code",
   "execution_count": 3,
   "metadata": {
    "collapsed": false
   },
   "outputs": [
    {
     "name": "stdout",
     "output_type": "stream",
     "text": [
      "Building model...\n",
      "\n"
     ]
    }
   ],
   "source": [
    "# params\n",
    "MAX_INPUT = 12\n",
    "MAX_LENGTH = 22         # max sequence length in characters (for padding/truncating)\n",
    "HIDDEN_SIZE = 100       # LSTM Nodes/Features/Dimension\n",
    "EMBEDDING_SIZE = 100\n",
    "BATCH_SIZE = 64\n",
    "DROPOUTRATE = 0.33\n",
    "LAYERS = 2              # bi-LSTM-RNN layers (not working)\n",
    "MAX_EPOCHS = 10         # max iterations, early stop condition below\n",
    "VOCAB_KOR = len(kor2idx.keys())\n",
    "VOCAB_ENG = len(eng2idx.keys())\n",
    "\n",
    "print('Building model...\\n')\n",
    "\n",
    "model = Sequential()\n",
    "\n",
    "encRNN = GRU\n",
    "decRNN = LSTM\n",
    "\n",
    "model.add(Embedding(VOCAB_KOR, EMBEDDING_SIZE, input_length=MAX_INPUT, mask_zero=True))\n",
    "model.add(Dropout(DROPOUTRATE))\n",
    "model.add(Bidirectional(encRNN(HIDDEN_SIZE, return_sequences=True)))\n",
    "\n",
    "# model.add(Bidirectional(encRNN(HIDDEN_SIZE, return_sequences=True)))\n",
    "# model.add(Attention())\n",
    "\n",
    "model.add(Bidirectional(encRNN(HIDDEN_SIZE)))\n",
    "model.add(RepeatVector(MAX_LENGTH))\n",
    "\n",
    "model.add(Bidirectional(decRNN(HIDDEN_SIZE, return_sequences=True)))\n",
    "model.add(Dropout(DROPOUTRATE))\n",
    "model.add(Bidirectional(decRNN(HIDDEN_SIZE, return_sequences=True)))\n",
    "model.add(TimeDistributed(Dense(VOCAB_ENG)))\n",
    "model.add(Activation('softmax'))"
   ]
  },
  {
   "cell_type": "code",
   "execution_count": 4,
   "metadata": {
    "collapsed": false
   },
   "outputs": [
    {
     "name": "stdout",
     "output_type": "stream",
     "text": [
      "_________________________________________________________________\n",
      "Layer (type)                 Output Shape              Param #   \n",
      "=================================================================\n",
      "embedding_1 (Embedding)      (None, 12, 100)           5200      \n",
      "_________________________________________________________________\n",
      "dropout_1 (Dropout)          (None, 12, 100)           0         \n",
      "_________________________________________________________________\n",
      "bidirectional_1 (Bidirection (None, 12, 200)           120600    \n",
      "_________________________________________________________________\n",
      "bidirectional_2 (Bidirection (None, 200)               180600    \n",
      "_________________________________________________________________\n",
      "repeat_vector_1 (RepeatVecto (None, 22, 200)           0         \n",
      "_________________________________________________________________\n",
      "bidirectional_3 (Bidirection (None, 22, 200)           240800    \n",
      "_________________________________________________________________\n",
      "dropout_2 (Dropout)          (None, 22, 200)           0         \n",
      "_________________________________________________________________\n",
      "bidirectional_4 (Bidirection (None, 22, 200)           240800    \n",
      "_________________________________________________________________\n",
      "time_distributed_1 (TimeDist (None, 22, 22)            4422      \n",
      "_________________________________________________________________\n",
      "activation_1 (Activation)    (None, 22, 22)            0         \n",
      "=================================================================\n",
      "Total params: 792,422\n",
      "Trainable params: 792,422\n",
      "Non-trainable params: 0\n",
      "_________________________________________________________________\n"
     ]
    }
   ],
   "source": [
    "# load model\n",
    "model.load_weights('model/model_weights.h5')\n",
    "model.summary()"
   ]
  },
  {
   "cell_type": "code",
   "execution_count": 5,
   "metadata": {
    "collapsed": false
   },
   "outputs": [
    {
     "data": {
      "image/png": "[encoded data removed]",
      "text/plain": [
       "<matplotlib.figure.Figure at 0x7f47c0d2b278>"
      ]
     },
     "metadata": {},
     "output_type": "display_data"
    }
   ],
   "source": [
    "# load history dict from training\n",
    "hist_dict = np.load('model/hist_dict.npy').item()\n",
    "plt.plot(hist_dict['acc'], 'red', label='acc')\n",
    "plt.plot(hist_dict['val_acc'], 'blue', label='val_acc')\n",
    "plt.title(\"model training accuracy\")\n",
    "plt.ylabel('accuracy')\n",
    "plt.xlabel('epochs')\n",
    "plt.legend(loc=7)\n",
    "plt.show()"
   ]
  },
  {
   "cell_type": "code",
   "execution_count": 12,
   "metadata": {
    "collapsed": false,
    "scrolled": true
   },
   "outputs": [
    {
     "name": "stdout",
     "output_type": "stream",
     "text": [
      "IN : ㄷㅗㄹㄹㅣㅅㅕㅆㄴㅡㄴ\n",
      "TRU: dollisyeossneun\n",
      "PRD: domyejjeoneunn\n",
      "\n",
      "IN : ㅈㅣㄹㄹㅓㅆㅅㅡㅂㄴㅣ\n",
      "TRU: jilleossseubni\n",
      "PRD: jilleodolili\n",
      "\n",
      "IN : ㅈㅚㅇㅣㅁ\n",
      "TRU: joeim\n",
      "PRD: jeiim\n",
      "\n",
      "IN : ㅎㅡㄹㄹㅓㄴㅐㄹㅣ\n",
      "TRU: heulleonaeli\n",
      "PRD: heulleonaeli\n",
      "\n",
      "IN : ㅂㅡㄹㅏㅇㅜㄴ\n",
      "TRU: beulaun\n",
      "PRD: leulann\n",
      "\n",
      "IN : ㅈㅓㄹㄱㅕㅇ\n",
      "TRU: jeolgyeong\n",
      "PRD: seolgyeong\n",
      "\n",
      "IN : ㅇㅘㄹㅗ\n",
      "TRU: walo\n",
      "PRD: wanoo\n",
      "\n",
      "IN : ㅅㅏㅁㅏㄱ\n",
      "TRU: samag\n",
      "PRD: samaag\n",
      "\n",
      "IN : ㅊㅣㄴㄱㅡㄴㅎㅏㄴ\n",
      "TRU: chingeunhan\n",
      "PRD: chungenhaan\n",
      "\n",
      "IN : ㅂㅜㄹㅡㅎㅡ\n",
      "TRU: buleuheu\n",
      "PRD: buluueeu\n",
      "\n",
      "IN : ㅍㅛㅎㅕㄴㅎㅏㄱㅣ\n",
      "TRU: pyohyeonhagi\n",
      "PRD: teoyaenhaji\n",
      "\n",
      "IN : ㅎㅢㅅㅐㅇㅎㅏㄷㅏ\n",
      "TRU: huisaenghada\n",
      "PRD: haiseumhada\n",
      "\n",
      "IN : ㄷㅡㄹㅓㄴㅐㄱㅔ\n",
      "TRU: deuleonaege\n",
      "PRD: deuleonagee\n",
      "\n",
      "IN : ㄷㅓㄴㄷㅣ\n",
      "TRU: deondi\n",
      "PRD: deondi\n",
      "\n",
      "IN : ㅂㅜㄹㄱㅠㅊㅣㄱ\n",
      "TRU: bulgyuchig\n",
      "PRD: buggbughig\n",
      "\n",
      "IN : ㄴㅗㅎㅇㅣ\n",
      "TRU: nohi\n",
      "PRD: nogi\n",
      "\n",
      "IN : ㅈㅡㅇㅁㅕㅇㅎㅏㅈㅣ\n",
      "TRU: jeungmyeonghaji\n",
      "PRD: jeungeonghaji\n",
      "\n",
      "IN : ㅂㅏㄴㅅㅓㅇ\n",
      "TRU: banseong\n",
      "PRD: banseong\n",
      "\n",
      "IN : ㅊㅚㅈㅏㅇㅅㅜ\n",
      "TRU: choejangsu\n",
      "PRD: cheonhsu\n",
      "\n",
      "IN : ㅌㅜㅊㅓㄱ\n",
      "TRU: tucheog\n",
      "PRD: tucheeg\n",
      "\n",
      "IN : ㅌㅗㅂㄴㅠㅅㅡ\n",
      "TRU: tobnyuseu\n",
      "PRD: tobsssss\n",
      "\n",
      "IN : ㅁㅣㅇㅑㄴㅁㅏㅇㅓ\n",
      "TRU: miyanmaeo\n",
      "PRD: gangogaayo\n",
      "\n",
      "IN : ㄷㅔㅇㅜㄹ\n",
      "TRU: deul\n",
      "PRD: deul\n",
      "\n",
      "IN : ㅎㅜㄹㅕㅁ\n",
      "TRU: hulyeom\n",
      "PRD: pulyeom\n",
      "\n",
      "IN : ㅊㅣㄴㅁㅣㄹㄷㅗ\n",
      "TRU: chinmildo\n",
      "PRD: chinduldo\n",
      "\n",
      "IN : ㅇㅝㄹㄷㅡㅇ\n",
      "TRU: woldeung\n",
      "PRD: waneeung\n",
      "\n",
      "IN : ㅇㅖㅅㅡㅂㅎㅏㄱㅓ\n",
      "TRU: yeseubhageo\n",
      "PRD: yegsughageo\n",
      "\n",
      "IN : ㅅㅏㅂㅗㄱ\n",
      "TRU: sabog\n",
      "PRD: sagog\n",
      "\n",
      "IN : ㅂㅗㅊㅜㅇㅎㅏㅈㅣ\n",
      "TRU: bochunghaji\n",
      "PRD: bunghanhaji\n",
      "\n",
      "IN : ㅁㅐㅈㅓㅇ\n",
      "TRU: maejeong\n",
      "PRD: maejeong\n",
      "\n",
      "IN : ㅈㅏㄱㅜㅇ\n",
      "TRU: jagung\n",
      "PRD: jagunng\n",
      "\n",
      "IN : ㄱㅏㅈㅡㅁㅣ\n",
      "TRU: gajeumi\n",
      "PRD: gameuii\n",
      "\n",
      "IN : ㅇㅏㄹㅏㅇㄱㅗㅅ\n",
      "TRU: alanggos\n",
      "PRD: alaogaes\n",
      "\n",
      "IN : ㄱㅏㄴㅡㅇㅎㅏㅅㅣ\n",
      "TRU: ganeunghasi\n",
      "PRD: ganseonhaji\n",
      "\n",
      "IN : ㄷㅏㄴㅣㅅㅕㅆㄷㅏ\n",
      "TRU: danisyeossda\n",
      "PRD: halseutedda\n",
      "\n",
      "IN : ㄱㅏㅁㅆㅏㄴㅡㄴ\n",
      "TRU: gamssaneun\n",
      "PRD: galganeunn\n",
      "\n",
      "IN : ㅆㅡㄹㅇㅓ\n",
      "TRU: sseuleo\n",
      "PRD: seulleo\n",
      "\n",
      "IN : ㅍㅡㄹㄹㅗ\n",
      "TRU: peullo\n",
      "PRD: deullo\n",
      "\n",
      "IN : ㅊㅓㅇㅎㅐ\n",
      "TRU: cheonghae\n",
      "PRD: hyeonghae\n",
      "\n",
      "IN : ㄲㅗㅈㄱㅗ\n",
      "TRU: kkojgo\n",
      "PRD: kkelgo\n",
      "\n",
      "IN : ㅁㅣㄴㅣ\n",
      "TRU: mini\n",
      "PRD: mini\n",
      "\n",
      "IN : ㅈㅣㅇㅓ\n",
      "TRU: jieo\n",
      "PRD: jiyo\n",
      "\n",
      "IN : ㄱㅏㅂㅈㅏㄱㅅㅡㄹㅓㄴ\n",
      "TRU: gabjagseuleon\n",
      "PRD: gaggeegeolenn\n",
      "\n",
      "IN : ㄱㅏㄱㅎㅏ\n",
      "TRU: gagha\n",
      "PRD: gagha\n",
      "\n",
      "IN : ㄴㅡㄲㅣㅅㅕㅆㅈㅣ\n",
      "TRU: neukkisyeossji\n",
      "PRD: heulyeosejji\n",
      "\n",
      "IN : ㅎㅔㅇㄱㅜ\n",
      "TRU: henggu\n",
      "PRD: heengi\n",
      "\n",
      "IN : ㅌㅏㄹㄱㅗㄱ\n",
      "TRU: talgog\n",
      "PRD: talgog\n",
      "\n",
      "IN : ㅋㅐㄴㅌㅓ\n",
      "TRU: kaenteo\n",
      "PRD: kaaneeo\n",
      "\n",
      "IN : ㅍㅔㄹㄷㅡㅁㅓㄴ\n",
      "TRU: peldeumeon\n",
      "PRD: deleuleenn\n",
      "\n",
      "IN : ㅅㅏㅇㄷㅏㅇㅅㅜ\n",
      "TRU: sangdangsu\n",
      "PRD: sanndadu\n",
      "\n"
     ]
    }
   ],
   "source": [
    "decoded = []\n",
    "\n",
    "with open('result/basic_seq2seq.txt', 'w') as f:\n",
    "\n",
    "    for sent_idx in range(len(x_test[:500])):\n",
    "\n",
    "        this_txt = sequence.pad_sequences([x_test[sent_idx]], maxlen=MAX_INPUT, truncating='post', padding='post')\n",
    "        this_pred = model.predict([this_txt])\n",
    "        this_pred = [np.argmax(p) for p in this_pred[0]]\n",
    "\n",
    "        word, tru, prd = [], [], []\n",
    "\n",
    "        # for each word in the input sentence...\n",
    "        for idx, wordid in enumerate(x_test[sent_idx]):\n",
    "            word.append(idx2kor[wordid])\n",
    "        # for each word in the true sentence...\n",
    "        for idx, wordid in enumerate(y_test[sent_idx]):\n",
    "            tru.append(idx2eng[wordid])\n",
    "        # for each word in the output sentence...\n",
    "        for idx, wordid in enumerate(this_pred):\n",
    "            if wordid != 0:\n",
    "                prd.append(idx2eng[wordid])\n",
    "\n",
    "        f.write(\"IN : \"+''.join(word)+'\\n')\n",
    "        f.write(\"TRU: \"+''.join(tru)+'\\n')\n",
    "        f.write(\"PRD: \"+''.join(prd)+'\\n')\n",
    "        f.write('\\n')\n",
    "        \n",
    "        if sent_idx % 10 == 0:\n",
    "            print(\"IN :\", ''.join(word))\n",
    "            print(\"TRU:\", ''.join(tru))\n",
    "            print(\"PRD:\", ''.join(prd))\n",
    "            print('')\n",
    "\n",
    "       "
   ]
  },
  {
   "cell_type": "code",
   "execution_count": null,
   "metadata": {
    "collapsed": false
   },
   "outputs": [],
   "source": [
    "result = pd.concat(decoded)"
   ]
  },
  {
   "cell_type": "code",
   "execution_count": null,
   "metadata": {
    "collapsed": false
   },
   "outputs": [],
   "source": [
    "result"
   ]
  },
  {
   "cell_type": "code",
   "execution_count": null,
   "metadata": {
    "collapsed": false
   },
   "outputs": [],
   "source": [
    "# result.to_csv('wtf.csv')"
   ]
  },
  {
   "cell_type": "code",
   "execution_count": null,
   "metadata": {
    "collapsed": true
   },
   "outputs": [],
   "source": []
  }
 ],
 "metadata": {
  "kernelspec": {
   "display_name": "Python 3",
   "language": "python",
   "name": "python3"
  },
  "language_info": {
   "codemirror_mode": {
    "name": "ipython",
    "version": 3
   },
   "file_extension": ".py",
   "mimetype": "text/x-python",
   "name": "python",
   "nbconvert_exporter": "python",
   "pygments_lexer": "ipython3",
   "version": "3.6.0"
  }
 },
 "nbformat": 4,
 "nbformat_minor": 2
}
