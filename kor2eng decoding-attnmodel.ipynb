{
 "cells": [
  {
   "cell_type": "code",
   "execution_count": 1,
   "metadata": {
    "collapsed": false
   },
   "outputs": [
    {
     "name": "stderr",
     "output_type": "stream",
     "text": [
      "Using TensorFlow backend.\n"
     ]
    }
   ],
   "source": [
    "%matplotlib inline\n",
    "import matplotlib.pyplot as plt\n",
    "import pandas as pd\n",
    "import numpy as np\n",
    "import json, h5py\n",
    "import numpy as np\n",
    "from keras.models import Sequential\n",
    "from keras.preprocessing import sequence\n",
    "from keras.layers.wrappers import Bidirectional\n",
    "from keras.layers import Activation, Dense, Dropout, Embedding, GRU, LSTM, RepeatVector, TimeDistributed\n",
    "from keras.callbacks import EarlyStopping, ModelCheckpoint\n",
    "from dataset import dataGenerator\n",
    "from attention import Attention"
   ]
  },
  {
   "cell_type": "code",
   "execution_count": 2,
   "metadata": {
    "collapsed": false
   },
   "outputs": [
    {
     "name": "stdout",
     "output_type": "stream",
     "text": [
      "loading data...\n",
      "\n",
      "...data loaded!\n"
     ]
    }
   ],
   "source": [
    "# load data\n",
    "print(\"loading data...\\n\")\n",
    "\n",
    "x_words = [str(w) for w in list(np.load('encoded/x_words.npy'))]\n",
    "y_words = [str(w) for w in list(np.load('encoded/y_words.npy'))]\n",
    "x_vocab = [str(w) for w in list(np.load('encoded/x_vocab.npy'))]\n",
    "y_vocab = [str(w) for w in list(np.load('encoded/y_vocab.npy'))]\n",
    "\n",
    "kor2idx = np.load('encoded/kor2idx.npy').item()\n",
    "idx2kor = np.load('encoded/idx2kor.npy').item()\n",
    "eng2idx = np.load('encoded/eng2idx.npy').item()\n",
    "idx2eng = np.load('encoded/idx2eng.npy').item()\n",
    "\n",
    "train_idx = np.load('encoded/train_idx.npy')\n",
    "test_idx = np.load('encoded/test_idx.npy')\n",
    "\n",
    "x_train = np.load('encoded/x_train.npy')\n",
    "x_test = np.load('encoded/x_test.npy')\n",
    "y_train = np.load('encoded/y_train.npy')\n",
    "y_test = np.load('encoded/y_test.npy')\n",
    "\n",
    "print(\"...data loaded!\")"
   ]
  },
  {
   "cell_type": "code",
   "execution_count": 3,
   "metadata": {
    "collapsed": false
   },
   "outputs": [
    {
     "name": "stdout",
     "output_type": "stream",
     "text": [
      "building model...\n",
      "\n"
     ]
    }
   ],
   "source": [
    "# params\n",
    "MAX_INPUT = 22          # 12 for basic seq2seq, same as max_len for attn\n",
    "MAX_LENGTH = 22         # max sequence length in characters (for padding/truncating)\n",
    "HIDDEN_SIZE = 128       # LSTM Nodes/Features/Dimension\n",
    "EMBEDDING_SIZE = 128\n",
    "BATCH_SIZE = 64\n",
    "DROPOUTRATE = 0.3\n",
    "LAYERS = 2              # bi-LSTM-RNN layers (not working)\n",
    "MAX_EPOCHS = 10         # max iterations, early stop condition below\n",
    "VOCAB_KOR = len(kor2idx.keys())\n",
    "VOCAB_ENG = len(eng2idx.keys())\n",
    "\n",
    "print(\"building model...\\n\")\n",
    "\n",
    "model = Sequential()\n",
    "\n",
    "encRNN = GRU\n",
    "decRNN = LSTM\n",
    "\n",
    "model.add(Embedding(VOCAB_KOR, EMBEDDING_SIZE, input_length=MAX_INPUT, mask_zero=True))\n",
    "model.add(Dropout(DROPOUTRATE))\n",
    "model.add(Bidirectional(encRNN(HIDDEN_SIZE, return_sequences=True)))\n",
    "# model.add(Bidirectional(decRNN(HIDDEN_SIZE, return_sequences=True)))\n",
    "model.add(Bidirectional(encRNN(HIDDEN_SIZE, return_sequences=True)))\n",
    "model.add(Attention())\n",
    "\n",
    "# model.add(Bidirectional(encRNN(HIDDEN_SIZE)))\n",
    "# model.add(RepeatVector(MAX_LENGTH))\n",
    "\n",
    "model.add(Bidirectional(decRNN(HIDDEN_SIZE, return_sequences=True)))\n",
    "model.add(Bidirectional(decRNN(HIDDEN_SIZE, return_sequences=True)))\n",
    "model.add(Bidirectional(decRNN(HIDDEN_SIZE, return_sequences=True)))\n",
    "model.add(TimeDistributed(Dense(VOCAB_ENG)))\n",
    "model.add(Activation('softmax'))"
   ]
  },
  {
   "cell_type": "code",
   "execution_count": 4,
   "metadata": {
    "collapsed": false
   },
   "outputs": [
    {
     "name": "stdout",
     "output_type": "stream",
     "text": [
      "_________________________________________________________________\n",
      "Layer (type)                 Output Shape              Param #   \n",
      "=================================================================\n",
      "embedding_1 (Embedding)      (None, 22, 128)           6656      \n",
      "_________________________________________________________________\n",
      "dropout_1 (Dropout)          (None, 22, 128)           0         \n",
      "_________________________________________________________________\n",
      "bidirectional_1 (Bidirection (None, 22, 256)           197376    \n",
      "_________________________________________________________________\n",
      "bidirectional_2 (Bidirection (None, 22, 256)           295680    \n",
      "_________________________________________________________________\n",
      "attention_1 (Attention)      (None, 22, 256)           66048     \n",
      "_________________________________________________________________\n",
      "bidirectional_3 (Bidirection (None, 22, 256)           394240    \n",
      "_________________________________________________________________\n",
      "bidirectional_4 (Bidirection (None, 22, 256)           394240    \n",
      "_________________________________________________________________\n",
      "bidirectional_5 (Bidirection (None, 22, 256)           394240    \n",
      "_________________________________________________________________\n",
      "time_distributed_1 (TimeDist (None, 22, 22)            5654      \n",
      "_________________________________________________________________\n",
      "activation_1 (Activation)    (None, 22, 22)            0         \n",
      "=================================================================\n",
      "Total params: 1,754,134\n",
      "Trainable params: 1,754,134\n",
      "Non-trainable params: 0\n",
      "_________________________________________________________________\n"
     ]
    }
   ],
   "source": [
    "# load model\n",
    "model.load_weights('model/attn_model_weights.h5')\n",
    "model.summary()"
   ]
  },
  {
   "cell_type": "code",
   "execution_count": 5,
   "metadata": {
    "collapsed": false
   },
   "outputs": [
    {
     "data": {
      "image/png": "[encoded data removed]",
      "text/plain": [
       "<matplotlib.figure.Figure at 0x7ff09bc3f978>"
      ]
     },
     "metadata": {},
     "output_type": "display_data"
    }
   ],
   "source": [
    "# load history dict from training\n",
    "hist_dict = np.load('model/attn_hist_dict.npy').item()\n",
    "plt.plot(hist_dict['acc'], 'red', label='acc')\n",
    "plt.plot(hist_dict['val_acc'], 'blue', label='val_acc')\n",
    "plt.title(\"model training accuracy\")\n",
    "plt.ylabel('accuracy')\n",
    "plt.xlabel('epochs')\n",
    "plt.legend(loc=7)\n",
    "plt.show()"
   ]
  },
  {
   "cell_type": "code",
   "execution_count": 6,
   "metadata": {
    "collapsed": false,
    "scrolled": true
   },
   "outputs": [
    {
     "name": "stdout",
     "output_type": "stream",
     "text": [
      "IN : ㄷㅗㄹㄹㅣㅅㅕㅆㄴㅡㄴ\n",
      "TRU: dollisyeossneun\n",
      "PRD: eongeuyyossnen\n",
      "\n",
      "IN : ㅈㅣㄹㄹㅓㅆㅅㅡㅂㄴㅣ\n",
      "TRU: jilleossseubni\n",
      "PRD: jijjeubyeobhi\n",
      "\n",
      "IN : ㅈㅚㅇㅣㅁ\n",
      "TRU: joeim\n",
      "PRD: taiil\n",
      "\n",
      "IN : ㅎㅡㄹㄹㅓㄴㅐㄹㅣ\n",
      "TRU: heulleonaeli\n",
      "PRD: kkeleonheoji\n",
      "\n",
      "IN : ㅂㅡㄹㅏㅇㅜㄴ\n",
      "TRU: beulaun\n",
      "PRD: geuliun\n",
      "\n",
      "IN : ㅈㅓㄹㄱㅕㅇ\n",
      "TRU: jeolgyeong\n",
      "PRD: seolmyeong\n",
      "\n",
      "IN : ㅇㅘㄹㅗ\n",
      "TRU: walo\n",
      "PRD: aajo\n",
      "\n",
      "IN : ㅅㅏㅁㅏㄱ\n",
      "TRU: samag\n",
      "PRD: banag\n",
      "\n",
      "IN : ㅊㅣㄴㄱㅡㄴㅎㅏㄴ\n",
      "TRU: chingeunhan\n",
      "PRD: chengmmmhan\n",
      "\n",
      "IN : ㅂㅜㄹㅡㅎㅡ\n",
      "TRU: buleuheu\n",
      "PRD: llleedeuu\n",
      "\n",
      "IN : ㅍㅛㅎㅕㄴㅎㅏㄱㅣ\n",
      "TRU: pyohyeonhagi\n",
      "PRD: benyeonhagi\n",
      "\n",
      "IN : ㅎㅢㅅㅐㅇㅎㅏㄷㅏ\n",
      "TRU: huisaenghada\n",
      "PRD: haensaaggha\n",
      "\n",
      "IN : ㄷㅡㄹㅓㄴㅐㄱㅔ\n",
      "TRU: deuleonaege\n",
      "PRD: deuleonage\n",
      "\n",
      "IN : ㄷㅓㄴㄷㅣ\n",
      "TRU: deondi\n",
      "PRD: deonsi\n",
      "\n",
      "IN : ㅂㅜㄹㄱㅠㅊㅣㄱ\n",
      "TRU: bulgyuchig\n",
      "PRD: guleeucham\n",
      "\n",
      "IN : ㄴㅗㅎㅇㅣ\n",
      "TRU: nohi\n",
      "PRD: nasi\n",
      "\n",
      "IN : ㅈㅡㅇㅁㅕㅇㅎㅏㅈㅣ\n",
      "TRU: jeungmyeonghaji\n",
      "PRD: heungyonghagi\n",
      "\n",
      "IN : ㅂㅏㄴㅅㅓㅇ\n",
      "TRU: banseong\n",
      "PRD: hobsyong\n",
      "\n",
      "IN : ㅊㅚㅈㅏㅇㅅㅜ\n",
      "TRU: choejangsu\n",
      "PRD: cheonheso\n",
      "\n",
      "IN : ㅌㅜㅊㅓㄱ\n",
      "TRU: tucheog\n",
      "PRD: becheog\n",
      "\n",
      "IN : ㅌㅗㅂㄴㅠㅅㅡ\n",
      "TRU: tobnyuseu\n",
      "PRD: goleeuseu\n",
      "\n",
      "IN : ㅁㅣㅇㅑㄴㅁㅏㅇㅓ\n",
      "TRU: miyanmaeo\n",
      "PRD: ganllalyo\n",
      "\n",
      "IN : ㄷㅔㅇㅜㄹ\n",
      "TRU: deul\n",
      "PRD: souul\n",
      "\n",
      "IN : ㅎㅜㄹㅕㅁ\n",
      "TRU: hulyeom\n",
      "PRD: bulyeol\n",
      "\n",
      "IN : ㅊㅣㄴㅁㅣㄹㄷㅗ\n",
      "TRU: chinmildo\n",
      "PRD: chamlaago\n",
      "\n",
      "IN : ㅇㅝㄹㄷㅡㅇ\n",
      "TRU: woldeung\n",
      "PRD: wegjeung\n",
      "\n",
      "IN : ㅇㅖㅅㅡㅂㅎㅏㄱㅓ\n",
      "TRU: yeseubhageo\n",
      "PRD: golloshageo\n",
      "\n",
      "IN : ㅅㅏㅂㅗㄱ\n",
      "TRU: sabog\n",
      "PRD: bagog\n",
      "\n",
      "IN : ㅂㅗㅊㅜㅇㅎㅏㅈㅣ\n",
      "TRU: bochunghaji\n",
      "PRD: dalsenghagi\n",
      "\n",
      "IN : ㅁㅐㅈㅓㅇ\n",
      "TRU: maejeong\n",
      "PRD: daeseung\n",
      "\n",
      "IN : ㅈㅏㄱㅜㅇ\n",
      "TRU: jagung\n",
      "PRD: dajung\n",
      "\n",
      "IN : ㄱㅏㅈㅡㅁㅣ\n",
      "TRU: gajeumi\n",
      "PRD: gabduki\n",
      "\n",
      "IN : ㅇㅏㄹㅏㅇㄱㅗㅅ\n",
      "TRU: alanggos\n",
      "PRD: ooonhae\n",
      "\n",
      "IN : ㄱㅏㄴㅡㅇㅎㅏㅅㅣ\n",
      "TRU: ganeunghasi\n",
      "PRD: balsanghagi\n",
      "\n",
      "IN : ㄷㅏㄴㅣㅅㅕㅆㄷㅏ\n",
      "TRU: danisyeossda\n",
      "PRD: naneudeossda\n",
      "\n",
      "IN : ㄱㅏㅁㅆㅏㄴㅡㄴ\n",
      "TRU: gamssaneun\n",
      "PRD: manhanneun\n",
      "\n",
      "IN : ㅆㅡㄹㅇㅓ\n",
      "TRU: sseuleo\n",
      "PRD: kkeunyu\n",
      "\n",
      "IN : ㅍㅡㄹㄹㅗ\n",
      "TRU: peullo\n",
      "PRD: keullo\n",
      "\n",
      "IN : ㅊㅓㅇㅎㅐ\n",
      "TRU: cheonghae\n",
      "PRD: meonghae\n",
      "\n",
      "IN : ㄲㅗㅈㄱㅗ\n",
      "TRU: kkojgo\n",
      "PRD: kkelho\n",
      "\n",
      "IN : ㅁㅣㄴㅣ\n",
      "TRU: mini\n",
      "PRD: jini\n",
      "\n",
      "IN : ㅈㅣㅇㅓ\n",
      "TRU: jieo\n",
      "PRD: biyo\n",
      "\n",
      "IN : ㄱㅏㅂㅈㅏㄱㅅㅡㄹㅓㄴ\n",
      "TRU: gabjagseuleon\n",
      "PRD: jibeinaeupeon\n",
      "\n",
      "IN : ㄱㅏㄱㅎㅏ\n",
      "TRU: gagha\n",
      "PRD: sanha\n",
      "\n",
      "IN : ㄴㅡㄲㅣㅅㅕㅆㅈㅣ\n",
      "TRU: neukkisyeossji\n",
      "PRD: teuggyeoolsi\n",
      "\n",
      "IN : ㅎㅔㅇㄱㅜ\n",
      "TRU: henggu\n",
      "PRD: donngu\n",
      "\n",
      "IN : ㅌㅏㄹㄱㅗㄱ\n",
      "TRU: talgog\n",
      "PRD: baljog\n",
      "\n",
      "IN : ㅋㅐㄴㅌㅓ\n",
      "TRU: kaenteo\n",
      "PRD: gaeegeo\n",
      "\n",
      "IN : ㅍㅔㄹㄷㅡㅁㅓㄴ\n",
      "TRU: peldeumeon\n",
      "PRD: geleunjeon\n",
      "\n",
      "IN : ㅅㅏㅇㄷㅏㅇㅅㅜ\n",
      "TRU: sangdangsu\n",
      "PRD: dawyaaugo\n",
      "\n"
     ]
    }
   ],
   "source": [
    "decoded = []\n",
    "\n",
    "with open('result/attn_seq2seq.txt', 'w') as f:\n",
    "\n",
    "    for sent_idx in range(len(x_test[:500])):\n",
    "\n",
    "        this_txt = sequence.pad_sequences([x_test[sent_idx]], maxlen=MAX_INPUT, truncating='post', padding='post')\n",
    "        this_pred = model.predict([this_txt])\n",
    "        this_pred = [np.argmax(p) for p in this_pred[0]]\n",
    "\n",
    "        word, tru, prd = [], [], []\n",
    "\n",
    "        # for each word in the input sentence...\n",
    "        for idx, wordid in enumerate(x_test[sent_idx]):\n",
    "            word.append(idx2kor[wordid])\n",
    "        # for each word in the true sentence...\n",
    "        for idx, wordid in enumerate(y_test[sent_idx]):\n",
    "            tru.append(idx2eng[wordid])\n",
    "        # for each word in the output sentence...\n",
    "        for idx, wordid in enumerate(this_pred):\n",
    "            if wordid != 0:\n",
    "                prd.append(idx2eng[wordid])\n",
    "\n",
    "        f.write(\"IN : \"+''.join(word)+'\\n')\n",
    "        f.write(\"TRU: \"+''.join(tru)+'\\n')\n",
    "        f.write(\"PRD: \"+''.join(prd)+'\\n')\n",
    "        f.write('\\n')\n",
    "        \n",
    "        if sent_idx % 10 == 0:\n",
    "            print(\"IN :\", ''.join(word))\n",
    "            print(\"TRU:\", ''.join(tru))\n",
    "            print(\"PRD:\", ''.join(prd))\n",
    "            print('')\n",
    "\n",
    "       "
   ]
  },
  {
   "cell_type": "code",
   "execution_count": null,
   "metadata": {
    "collapsed": false
   },
   "outputs": [],
   "source": [
    "result = pd.concat(decoded)"
   ]
  },
  {
   "cell_type": "code",
   "execution_count": null,
   "metadata": {
    "collapsed": false
   },
   "outputs": [],
   "source": [
    "result"
   ]
  },
  {
   "cell_type": "code",
   "execution_count": null,
   "metadata": {
    "collapsed": false
   },
   "outputs": [],
   "source": [
    "# result.to_csv('wtf.csv')"
   ]
  },
  {
   "cell_type": "code",
   "execution_count": null,
   "metadata": {
    "collapsed": true
   },
   "outputs": [],
   "source": []
  }
 ],
 "metadata": {
  "kernelspec": {
   "display_name": "Python 3",
   "language": "python",
   "name": "python3"
  },
  "language_info": {
   "codemirror_mode": {
    "name": "ipython",
    "version": 3
   },
   "file_extension": ".py",
   "mimetype": "text/x-python",
   "name": "python",
   "nbconvert_exporter": "python",
   "pygments_lexer": "ipython3",
   "version": "3.6.0"
  }
 },
 "nbformat": 4,
 "nbformat_minor": 2
}
